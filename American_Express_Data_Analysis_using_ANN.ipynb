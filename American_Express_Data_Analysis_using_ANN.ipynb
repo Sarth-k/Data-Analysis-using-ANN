{
  "nbformat": 4,
  "nbformat_minor": 0,
  "metadata": {
    "colab": {
      "provenance": [],
      "authorship_tag": "ABX9TyOu4bec54QfyxNiOM9U9O5+",
      "include_colab_link": true
    },
    "kernelspec": {
      "name": "python3",
      "display_name": "Python 3"
    },
    "language_info": {
      "name": "python"
    }
  },
  "cells": [
    {
      "cell_type": "markdown",
      "metadata": {
        "id": "view-in-github",
        "colab_type": "text"
      },
      "source": [
        "<a href=\"https://colab.research.google.com/github/Sarth-k/Data-Analysis-using-ANN/blob/main/American_Express_Data_Analysis_using_ANN.ipynb\" target=\"_parent\"><img src=\"https://colab.research.google.com/assets/colab-badge.svg\" alt=\"Open In Colab\"/></a>"
      ]
    },
    {
      "cell_type": "code",
      "execution_count": null,
      "metadata": {
        "id": "KioxHXB1qls1"
      },
      "outputs": [],
      "source": [
        "import numpy as np\n",
        "import pandas as pd\n",
        "import tensorflow as tf"
      ]
    },
    {
      "cell_type": "code",
      "source": [
        "dataset = pd.read_excel(\"American Express Data.xlsx\")\n",
        "dataset.head()"
      ],
      "metadata": {
        "colab": {
          "base_uri": "https://localhost:8080/",
          "height": 224
        },
        "id": "WzuJzLQvrnd2",
        "outputId": "282807b1-032b-4203-9102-c46b30e8c3ed"
      },
      "execution_count": null,
      "outputs": [
        {
          "output_type": "execute_result",
          "data": {
            "text/plain": [
              "   Credit Score  Geography  Gender  Age  Customer Since  Current Account  \\\n",
              "0           553      Delhi  Female   45               4            0.000   \n",
              "1           447  Bengaluru    Male   31               7            0.000   \n",
              "2           501      Delhi  Female   32               2            0.000   \n",
              "3           428      Delhi    Male   51               3            0.000   \n",
              "4           492      Delhi  Female   57               6      1912681.501   \n",
              "\n",
              "   Num of products  UPI Enabled  Estimated Yearly Income  Closed  \n",
              "0                4            1                   274150       0  \n",
              "1                4            1                   519360       0  \n",
              "2                4            1                   545501       0  \n",
              "3                4            1                    86868       0  \n",
              "4                2            1                   518680       0  "
            ],
            "text/html": [
              "\n",
              "  <div id=\"df-38c5a82c-9f8d-441a-8609-14db29ac421c\" class=\"colab-df-container\">\n",
              "    <div>\n",
              "<style scoped>\n",
              "    .dataframe tbody tr th:only-of-type {\n",
              "        vertical-align: middle;\n",
              "    }\n",
              "\n",
              "    .dataframe tbody tr th {\n",
              "        vertical-align: top;\n",
              "    }\n",
              "\n",
              "    .dataframe thead th {\n",
              "        text-align: right;\n",
              "    }\n",
              "</style>\n",
              "<table border=\"1\" class=\"dataframe\">\n",
              "  <thead>\n",
              "    <tr style=\"text-align: right;\">\n",
              "      <th></th>\n",
              "      <th>Credit Score</th>\n",
              "      <th>Geography</th>\n",
              "      <th>Gender</th>\n",
              "      <th>Age</th>\n",
              "      <th>Customer Since</th>\n",
              "      <th>Current Account</th>\n",
              "      <th>Num of products</th>\n",
              "      <th>UPI Enabled</th>\n",
              "      <th>Estimated Yearly Income</th>\n",
              "      <th>Closed</th>\n",
              "    </tr>\n",
              "  </thead>\n",
              "  <tbody>\n",
              "    <tr>\n",
              "      <th>0</th>\n",
              "      <td>553</td>\n",
              "      <td>Delhi</td>\n",
              "      <td>Female</td>\n",
              "      <td>45</td>\n",
              "      <td>4</td>\n",
              "      <td>0.000</td>\n",
              "      <td>4</td>\n",
              "      <td>1</td>\n",
              "      <td>274150</td>\n",
              "      <td>0</td>\n",
              "    </tr>\n",
              "    <tr>\n",
              "      <th>1</th>\n",
              "      <td>447</td>\n",
              "      <td>Bengaluru</td>\n",
              "      <td>Male</td>\n",
              "      <td>31</td>\n",
              "      <td>7</td>\n",
              "      <td>0.000</td>\n",
              "      <td>4</td>\n",
              "      <td>1</td>\n",
              "      <td>519360</td>\n",
              "      <td>0</td>\n",
              "    </tr>\n",
              "    <tr>\n",
              "      <th>2</th>\n",
              "      <td>501</td>\n",
              "      <td>Delhi</td>\n",
              "      <td>Female</td>\n",
              "      <td>32</td>\n",
              "      <td>2</td>\n",
              "      <td>0.000</td>\n",
              "      <td>4</td>\n",
              "      <td>1</td>\n",
              "      <td>545501</td>\n",
              "      <td>0</td>\n",
              "    </tr>\n",
              "    <tr>\n",
              "      <th>3</th>\n",
              "      <td>428</td>\n",
              "      <td>Delhi</td>\n",
              "      <td>Male</td>\n",
              "      <td>51</td>\n",
              "      <td>3</td>\n",
              "      <td>0.000</td>\n",
              "      <td>4</td>\n",
              "      <td>1</td>\n",
              "      <td>86868</td>\n",
              "      <td>0</td>\n",
              "    </tr>\n",
              "    <tr>\n",
              "      <th>4</th>\n",
              "      <td>492</td>\n",
              "      <td>Delhi</td>\n",
              "      <td>Female</td>\n",
              "      <td>57</td>\n",
              "      <td>6</td>\n",
              "      <td>1912681.501</td>\n",
              "      <td>2</td>\n",
              "      <td>1</td>\n",
              "      <td>518680</td>\n",
              "      <td>0</td>\n",
              "    </tr>\n",
              "  </tbody>\n",
              "</table>\n",
              "</div>\n",
              "    <div class=\"colab-df-buttons\">\n",
              "\n",
              "  <div class=\"colab-df-container\">\n",
              "    <button class=\"colab-df-convert\" onclick=\"convertToInteractive('df-38c5a82c-9f8d-441a-8609-14db29ac421c')\"\n",
              "            title=\"Convert this dataframe to an interactive table.\"\n",
              "            style=\"display:none;\">\n",
              "\n",
              "  <svg xmlns=\"http://www.w3.org/2000/svg\" height=\"24px\" viewBox=\"0 -960 960 960\">\n",
              "    <path d=\"M120-120v-720h720v720H120Zm60-500h600v-160H180v160Zm220 220h160v-160H400v160Zm0 220h160v-160H400v160ZM180-400h160v-160H180v160Zm440 0h160v-160H620v160ZM180-180h160v-160H180v160Zm440 0h160v-160H620v160Z\"/>\n",
              "  </svg>\n",
              "    </button>\n",
              "\n",
              "  <style>\n",
              "    .colab-df-container {\n",
              "      display:flex;\n",
              "      gap: 12px;\n",
              "    }\n",
              "\n",
              "    .colab-df-convert {\n",
              "      background-color: #E8F0FE;\n",
              "      border: none;\n",
              "      border-radius: 50%;\n",
              "      cursor: pointer;\n",
              "      display: none;\n",
              "      fill: #1967D2;\n",
              "      height: 32px;\n",
              "      padding: 0 0 0 0;\n",
              "      width: 32px;\n",
              "    }\n",
              "\n",
              "    .colab-df-convert:hover {\n",
              "      background-color: #E2EBFA;\n",
              "      box-shadow: 0px 1px 2px rgba(60, 64, 67, 0.3), 0px 1px 3px 1px rgba(60, 64, 67, 0.15);\n",
              "      fill: #174EA6;\n",
              "    }\n",
              "\n",
              "    .colab-df-buttons div {\n",
              "      margin-bottom: 4px;\n",
              "    }\n",
              "\n",
              "    [theme=dark] .colab-df-convert {\n",
              "      background-color: #3B4455;\n",
              "      fill: #D2E3FC;\n",
              "    }\n",
              "\n",
              "    [theme=dark] .colab-df-convert:hover {\n",
              "      background-color: #434B5C;\n",
              "      box-shadow: 0px 1px 3px 1px rgba(0, 0, 0, 0.15);\n",
              "      filter: drop-shadow(0px 1px 2px rgba(0, 0, 0, 0.3));\n",
              "      fill: #FFFFFF;\n",
              "    }\n",
              "  </style>\n",
              "\n",
              "    <script>\n",
              "      const buttonEl =\n",
              "        document.querySelector('#df-38c5a82c-9f8d-441a-8609-14db29ac421c button.colab-df-convert');\n",
              "      buttonEl.style.display =\n",
              "        google.colab.kernel.accessAllowed ? 'block' : 'none';\n",
              "\n",
              "      async function convertToInteractive(key) {\n",
              "        const element = document.querySelector('#df-38c5a82c-9f8d-441a-8609-14db29ac421c');\n",
              "        const dataTable =\n",
              "          await google.colab.kernel.invokeFunction('convertToInteractive',\n",
              "                                                    [key], {});\n",
              "        if (!dataTable) return;\n",
              "\n",
              "        const docLinkHtml = 'Like what you see? Visit the ' +\n",
              "          '<a target=\"_blank\" href=https://colab.research.google.com/notebooks/data_table.ipynb>data table notebook</a>'\n",
              "          + ' to learn more about interactive tables.';\n",
              "        element.innerHTML = '';\n",
              "        dataTable['output_type'] = 'display_data';\n",
              "        await google.colab.output.renderOutput(dataTable, element);\n",
              "        const docLink = document.createElement('div');\n",
              "        docLink.innerHTML = docLinkHtml;\n",
              "        element.appendChild(docLink);\n",
              "      }\n",
              "    </script>\n",
              "  </div>\n",
              "\n",
              "\n",
              "<div id=\"df-b77b0142-6eac-45f9-93ca-7ef53868bee1\">\n",
              "  <button class=\"colab-df-quickchart\" onclick=\"quickchart('df-b77b0142-6eac-45f9-93ca-7ef53868bee1')\"\n",
              "            title=\"Suggest charts\"\n",
              "            style=\"display:none;\">\n",
              "\n",
              "<svg xmlns=\"http://www.w3.org/2000/svg\" height=\"24px\"viewBox=\"0 0 24 24\"\n",
              "     width=\"24px\">\n",
              "    <g>\n",
              "        <path d=\"M19 3H5c-1.1 0-2 .9-2 2v14c0 1.1.9 2 2 2h14c1.1 0 2-.9 2-2V5c0-1.1-.9-2-2-2zM9 17H7v-7h2v7zm4 0h-2V7h2v10zm4 0h-2v-4h2v4z\"/>\n",
              "    </g>\n",
              "</svg>\n",
              "  </button>\n",
              "\n",
              "<style>\n",
              "  .colab-df-quickchart {\n",
              "      --bg-color: #E8F0FE;\n",
              "      --fill-color: #1967D2;\n",
              "      --hover-bg-color: #E2EBFA;\n",
              "      --hover-fill-color: #174EA6;\n",
              "      --disabled-fill-color: #AAA;\n",
              "      --disabled-bg-color: #DDD;\n",
              "  }\n",
              "\n",
              "  [theme=dark] .colab-df-quickchart {\n",
              "      --bg-color: #3B4455;\n",
              "      --fill-color: #D2E3FC;\n",
              "      --hover-bg-color: #434B5C;\n",
              "      --hover-fill-color: #FFFFFF;\n",
              "      --disabled-bg-color: #3B4455;\n",
              "      --disabled-fill-color: #666;\n",
              "  }\n",
              "\n",
              "  .colab-df-quickchart {\n",
              "    background-color: var(--bg-color);\n",
              "    border: none;\n",
              "    border-radius: 50%;\n",
              "    cursor: pointer;\n",
              "    display: none;\n",
              "    fill: var(--fill-color);\n",
              "    height: 32px;\n",
              "    padding: 0;\n",
              "    width: 32px;\n",
              "  }\n",
              "\n",
              "  .colab-df-quickchart:hover {\n",
              "    background-color: var(--hover-bg-color);\n",
              "    box-shadow: 0 1px 2px rgba(60, 64, 67, 0.3), 0 1px 3px 1px rgba(60, 64, 67, 0.15);\n",
              "    fill: var(--button-hover-fill-color);\n",
              "  }\n",
              "\n",
              "  .colab-df-quickchart-complete:disabled,\n",
              "  .colab-df-quickchart-complete:disabled:hover {\n",
              "    background-color: var(--disabled-bg-color);\n",
              "    fill: var(--disabled-fill-color);\n",
              "    box-shadow: none;\n",
              "  }\n",
              "\n",
              "  .colab-df-spinner {\n",
              "    border: 2px solid var(--fill-color);\n",
              "    border-color: transparent;\n",
              "    border-bottom-color: var(--fill-color);\n",
              "    animation:\n",
              "      spin 1s steps(1) infinite;\n",
              "  }\n",
              "\n",
              "  @keyframes spin {\n",
              "    0% {\n",
              "      border-color: transparent;\n",
              "      border-bottom-color: var(--fill-color);\n",
              "      border-left-color: var(--fill-color);\n",
              "    }\n",
              "    20% {\n",
              "      border-color: transparent;\n",
              "      border-left-color: var(--fill-color);\n",
              "      border-top-color: var(--fill-color);\n",
              "    }\n",
              "    30% {\n",
              "      border-color: transparent;\n",
              "      border-left-color: var(--fill-color);\n",
              "      border-top-color: var(--fill-color);\n",
              "      border-right-color: var(--fill-color);\n",
              "    }\n",
              "    40% {\n",
              "      border-color: transparent;\n",
              "      border-right-color: var(--fill-color);\n",
              "      border-top-color: var(--fill-color);\n",
              "    }\n",
              "    60% {\n",
              "      border-color: transparent;\n",
              "      border-right-color: var(--fill-color);\n",
              "    }\n",
              "    80% {\n",
              "      border-color: transparent;\n",
              "      border-right-color: var(--fill-color);\n",
              "      border-bottom-color: var(--fill-color);\n",
              "    }\n",
              "    90% {\n",
              "      border-color: transparent;\n",
              "      border-bottom-color: var(--fill-color);\n",
              "    }\n",
              "  }\n",
              "</style>\n",
              "\n",
              "  <script>\n",
              "    async function quickchart(key) {\n",
              "      const quickchartButtonEl =\n",
              "        document.querySelector('#' + key + ' button');\n",
              "      quickchartButtonEl.disabled = true;  // To prevent multiple clicks.\n",
              "      quickchartButtonEl.classList.add('colab-df-spinner');\n",
              "      try {\n",
              "        const charts = await google.colab.kernel.invokeFunction(\n",
              "            'suggestCharts', [key], {});\n",
              "      } catch (error) {\n",
              "        console.error('Error during call to suggestCharts:', error);\n",
              "      }\n",
              "      quickchartButtonEl.classList.remove('colab-df-spinner');\n",
              "      quickchartButtonEl.classList.add('colab-df-quickchart-complete');\n",
              "    }\n",
              "    (() => {\n",
              "      let quickchartButtonEl =\n",
              "        document.querySelector('#df-b77b0142-6eac-45f9-93ca-7ef53868bee1 button');\n",
              "      quickchartButtonEl.style.display =\n",
              "        google.colab.kernel.accessAllowed ? 'block' : 'none';\n",
              "    })();\n",
              "  </script>\n",
              "</div>\n",
              "\n",
              "    </div>\n",
              "  </div>\n"
            ],
            "application/vnd.google.colaboratory.intrinsic+json": {
              "type": "dataframe",
              "variable_name": "dataset",
              "summary": "{\n  \"name\": \"dataset\",\n  \"rows\": 9927,\n  \"fields\": [\n    {\n      \"column\": \"Credit Score\",\n      \"properties\": {\n        \"dtype\": \"number\",\n        \"std\": 78,\n        \"min\": 285,\n        \"max\": 692,\n        \"num_unique_values\": 377,\n        \"samples\": [\n          384,\n          524,\n          516\n        ],\n        \"semantic_type\": \"\",\n        \"description\": \"\"\n      }\n    },\n    {\n      \"column\": \"Geography\",\n      \"properties\": {\n        \"dtype\": \"category\",\n        \"num_unique_values\": 3,\n        \"samples\": [\n          \"Delhi\",\n          \"Bengaluru\",\n          \"Mumbai\"\n        ],\n        \"semantic_type\": \"\",\n        \"description\": \"\"\n      }\n    },\n    {\n      \"column\": \"Gender\",\n      \"properties\": {\n        \"dtype\": \"category\",\n        \"num_unique_values\": 2,\n        \"samples\": [\n          \"Male\",\n          \"Female\"\n        ],\n        \"semantic_type\": \"\",\n        \"description\": \"\"\n      }\n    },\n    {\n      \"column\": \"Age\",\n      \"properties\": {\n        \"dtype\": \"number\",\n        \"std\": 16,\n        \"min\": 17,\n        \"max\": 137,\n        \"num_unique_values\": 70,\n        \"samples\": [\n          30,\n          45\n        ],\n        \"semantic_type\": \"\",\n        \"description\": \"\"\n      }\n    },\n    {\n      \"column\": \"Customer Since\",\n      \"properties\": {\n        \"dtype\": \"number\",\n        \"std\": 2,\n        \"min\": 0,\n        \"max\": 8,\n        \"num_unique_values\": 9,\n        \"samples\": [\n          1,\n          7\n        ],\n        \"semantic_type\": \"\",\n        \"description\": \"\"\n      }\n    },\n    {\n      \"column\": \"Current Account\",\n      \"properties\": {\n        \"dtype\": \"number\",\n        \"std\": 840798.8453398122,\n        \"min\": 0.0,\n        \"max\": 3985304.216,\n        \"num_unique_values\": 6326,\n        \"samples\": [\n          1752881.546,\n          1130187.429\n        ],\n        \"semantic_type\": \"\",\n        \"description\": \"\"\n      }\n    },\n    {\n      \"column\": \"Num of products\",\n      \"properties\": {\n        \"dtype\": \"number\",\n        \"std\": 1,\n        \"min\": 2,\n        \"max\": 7,\n        \"num_unique_values\": 4,\n        \"samples\": [\n          2,\n          7\n        ],\n        \"semantic_type\": \"\",\n        \"description\": \"\"\n      }\n    },\n    {\n      \"column\": \"UPI Enabled\",\n      \"properties\": {\n        \"dtype\": \"number\",\n        \"std\": 0,\n        \"min\": 0,\n        \"max\": 1,\n        \"num_unique_values\": 2,\n        \"samples\": [\n          0,\n          1\n        ],\n        \"semantic_type\": \"\",\n        \"description\": \"\"\n      }\n    },\n    {\n      \"column\": \"Estimated Yearly Income\",\n      \"properties\": {\n        \"dtype\": \"number\",\n        \"std\": 157578,\n        \"min\": 32,\n        \"max\": 547947,\n        \"num_unique_values\": 9841,\n        \"samples\": [\n          324646,\n          500641\n        ],\n        \"semantic_type\": \"\",\n        \"description\": \"\"\n      }\n    },\n    {\n      \"column\": \"Closed\",\n      \"properties\": {\n        \"dtype\": \"number\",\n        \"std\": 0,\n        \"min\": 0,\n        \"max\": 1,\n        \"num_unique_values\": 2,\n        \"samples\": [\n          1,\n          0\n        ],\n        \"semantic_type\": \"\",\n        \"description\": \"\"\n      }\n    }\n  ]\n}"
            }
          },
          "metadata": {},
          "execution_count": 46
        }
      ]
    },
    {
      "cell_type": "code",
      "source": [
        "dataset.isnull().sum()"
      ],
      "metadata": {
        "colab": {
          "base_uri": "https://localhost:8080/"
        },
        "id": "l27eLiWaVn7C",
        "outputId": "e5e9debd-b9d7-42fa-d623-d528aba2e52c"
      },
      "execution_count": null,
      "outputs": [
        {
          "output_type": "execute_result",
          "data": {
            "text/plain": [
              "Credit Score               0\n",
              "Geography                  0\n",
              "Gender                     0\n",
              "Age                        0\n",
              "Customer Since             0\n",
              "Current Account            0\n",
              "Num of products            0\n",
              "UPI Enabled                0\n",
              "Estimated Yearly Income    0\n",
              "Closed                     0\n",
              "dtype: int64"
            ]
          },
          "metadata": {},
          "execution_count": 47
        }
      ]
    },
    {
      "cell_type": "code",
      "source": [
        "x=dataset.iloc[:,:-1].values\n",
        "y=dataset.iloc[:,-1].values\n",
        "x"
      ],
      "metadata": {
        "colab": {
          "base_uri": "https://localhost:8080/"
        },
        "id": "-0Lktilszt4F",
        "outputId": "85e9edc5-e2f9-40eb-8f6e-7c7b90747e14"
      },
      "execution_count": null,
      "outputs": [
        {
          "output_type": "execute_result",
          "data": {
            "text/plain": [
              "array([[553, 'Delhi', 'Female', ..., 4, 1, 274150],\n",
              "       [447, 'Bengaluru', 'Male', ..., 4, 1, 519360],\n",
              "       [501, 'Delhi', 'Female', ..., 4, 1, 545501],\n",
              "       ...,\n",
              "       [627, 'Mumbai', 'Female', ..., 4, 0, 494067],\n",
              "       [600, 'Bengaluru', 'Female', ..., 2, 1, 109375],\n",
              "       [553, 'Delhi', 'Male', ..., 4, 1, 180031]], dtype=object)"
            ]
          },
          "metadata": {},
          "execution_count": 48
        }
      ]
    },
    {
      "cell_type": "code",
      "source": [
        "y"
      ],
      "metadata": {
        "colab": {
          "base_uri": "https://localhost:8080/"
        },
        "id": "zAnNNIAg3X-E",
        "outputId": "19981f03-d8c3-4b86-d6ac-a66f93058165"
      },
      "execution_count": null,
      "outputs": [
        {
          "output_type": "execute_result",
          "data": {
            "text/plain": [
              "array([0, 0, 0, ..., 0, 1, 0])"
            ]
          },
          "metadata": {},
          "execution_count": 49
        }
      ]
    },
    {
      "cell_type": "markdown",
      "source": [
        "#Encoding categorical data"
      ],
      "metadata": {
        "id": "HuBq069CC3CP"
      }
    },
    {
      "cell_type": "markdown",
      "source": [
        "Gender column: label encoding"
      ],
      "metadata": {
        "id": "4QyZ_QQtHXlJ"
      }
    },
    {
      "cell_type": "code",
      "source": [
        "from sklearn.preprocessing import LabelEncoder\n",
        "lable_encoding = LabelEncoder()\n",
        "x[:,2]=lable_encoding.fit_transform(x[:,2])"
      ],
      "metadata": {
        "id": "XsSqw8E2Cfp7"
      },
      "execution_count": null,
      "outputs": []
    },
    {
      "cell_type": "code",
      "source": [
        "x"
      ],
      "metadata": {
        "colab": {
          "base_uri": "https://localhost:8080/"
        },
        "id": "_hc-Mn-FIImD",
        "outputId": "eb58772d-fc4d-4866-dd43-78bfd49d7fad"
      },
      "execution_count": null,
      "outputs": [
        {
          "output_type": "execute_result",
          "data": {
            "text/plain": [
              "array([[553, 'Delhi', 0, ..., 4, 1, 274150],\n",
              "       [447, 'Bengaluru', 1, ..., 4, 1, 519360],\n",
              "       [501, 'Delhi', 0, ..., 4, 1, 545501],\n",
              "       ...,\n",
              "       [627, 'Mumbai', 0, ..., 4, 0, 494067],\n",
              "       [600, 'Bengaluru', 0, ..., 2, 1, 109375],\n",
              "       [553, 'Delhi', 1, ..., 4, 1, 180031]], dtype=object)"
            ]
          },
          "metadata": {},
          "execution_count": 51
        }
      ]
    },
    {
      "cell_type": "markdown",
      "source": [
        "Geography column One hot encoding"
      ],
      "metadata": {
        "id": "q2EsVib2IMl1"
      }
    },
    {
      "cell_type": "code",
      "source": [
        "from sklearn.compose import ColumnTransformer\n",
        "from sklearn.preprocessing import OneHotEncoder\n",
        "ct=ColumnTransformer(transformers=[('encoder', OneHotEncoder(), [1])], remainder='passthrough')\n",
        "x=np.array(ct.fit_transform(x))\n",
        "# x=np.array(ct.fit_transform(x))"
      ],
      "metadata": {
        "id": "8HKDrJO7IM_u"
      },
      "execution_count": null,
      "outputs": []
    },
    {
      "cell_type": "code",
      "source": [
        "print(x)"
      ],
      "metadata": {
        "colab": {
          "base_uri": "https://localhost:8080/"
        },
        "id": "TyvJhYqJINB_",
        "outputId": "02ecfbc4-5008-4ba4-9ed9-ece8bf54eb18"
      },
      "execution_count": null,
      "outputs": [
        {
          "output_type": "stream",
          "name": "stdout",
          "text": [
            "[[0.0 1.0 0.0 ... 4 1 274150]\n",
            " [1.0 0.0 0.0 ... 4 1 519360]\n",
            " [0.0 1.0 0.0 ... 4 1 545501]\n",
            " ...\n",
            " [0.0 0.0 1.0 ... 4 0 494067]\n",
            " [1.0 0.0 0.0 ... 2 1 109375]\n",
            " [0.0 1.0 0.0 ... 4 1 180031]]\n"
          ]
        }
      ]
    },
    {
      "cell_type": "code",
      "source": [
        "x.shape"
      ],
      "metadata": {
        "colab": {
          "base_uri": "https://localhost:8080/"
        },
        "id": "KFTCjDzaWvzi",
        "outputId": "15c56f73-cac0-44c8-e352-0b6de37c6ab4"
      },
      "execution_count": null,
      "outputs": [
        {
          "output_type": "execute_result",
          "data": {
            "text/plain": [
              "(9927, 11)"
            ]
          },
          "metadata": {},
          "execution_count": 54
        }
      ]
    },
    {
      "cell_type": "code",
      "source": [
        "print(y)"
      ],
      "metadata": {
        "colab": {
          "base_uri": "https://localhost:8080/"
        },
        "id": "8BxgQO5BV1gM",
        "outputId": "ccd24c0d-958c-4c46-965d-3cd0b93655ba"
      },
      "execution_count": null,
      "outputs": [
        {
          "output_type": "stream",
          "name": "stdout",
          "text": [
            "[0 0 0 ... 0 1 0]\n"
          ]
        }
      ]
    },
    {
      "cell_type": "markdown",
      "source": [
        "# Spliting Dataset into traing and test dataset"
      ],
      "metadata": {
        "id": "tFW0ENCFLC3b"
      }
    },
    {
      "cell_type": "code",
      "source": [
        "from sklearn.model_selection import train_test_split\n",
        "x_train, x_test, y_train, y_test  = train_test_split(x,y,test_size=0.2, random_state=42)\n"
      ],
      "metadata": {
        "id": "A0tyC7FmINFM"
      },
      "execution_count": null,
      "outputs": []
    },
    {
      "cell_type": "markdown",
      "source": [
        "#Feature Selection"
      ],
      "metadata": {
        "id": "O-5d1dvEL4hd"
      }
    },
    {
      "cell_type": "code",
      "source": [
        "from sklearn.preprocessing import StandardScaler\n",
        "sc=StandardScaler()\n",
        "x_train= sc.fit_transform(x_train)\n",
        "x_test=sc.transform(x_test)"
      ],
      "metadata": {
        "id": "hNMv2sd0INH7"
      },
      "execution_count": null,
      "outputs": []
    },
    {
      "cell_type": "code",
      "source": [
        "x_train"
      ],
      "metadata": {
        "colab": {
          "base_uri": "https://localhost:8080/"
        },
        "id": "WOfGACayUhuG",
        "outputId": "d9a3b622-2ec7-4955-b312-f15097e1e873"
      },
      "execution_count": null,
      "outputs": [
        {
          "output_type": "execute_result",
          "data": {
            "text/plain": [
              "array([[-0.9933479 , -0.58505734,  1.73979202, ..., -0.95896254,\n",
              "         0.64518632,  0.75774259],\n",
              "       [ 1.00669664, -0.58505734, -0.57478135, ...,  0.89138894,\n",
              "         0.64518632, -1.72124988],\n",
              "       [ 1.00669664, -0.58505734, -0.57478135, ..., -0.95896254,\n",
              "         0.64518632,  0.45400561],\n",
              "       ...,\n",
              "       [-0.9933479 ,  1.70923418, -0.57478135, ...,  0.89138894,\n",
              "         0.64518632, -1.15372847],\n",
              "       [ 1.00669664, -0.58505734, -0.57478135, ...,  0.89138894,\n",
              "         0.64518632, -1.26520339],\n",
              "       [ 1.00669664, -0.58505734, -0.57478135, ...,  0.89138894,\n",
              "        -1.54993988, -0.65598438]])"
            ]
          },
          "metadata": {},
          "execution_count": 58
        }
      ]
    },
    {
      "cell_type": "markdown",
      "source": [
        "#ANN"
      ],
      "metadata": {
        "id": "Anjd3q6-M-wf"
      }
    },
    {
      "cell_type": "markdown",
      "source": [
        "Initialization"
      ],
      "metadata": {
        "id": "DBXqG9HONB0Z"
      }
    },
    {
      "cell_type": "code",
      "source": [
        "ann=tf.keras.models.Sequential()\n"
      ],
      "metadata": {
        "id": "jKpUOuCZINLH"
      },
      "execution_count": null,
      "outputs": []
    },
    {
      "cell_type": "markdown",
      "source": [
        "Adding input layer & first hidden layer\n"
      ],
      "metadata": {
        "id": "FFKLv51vN1zL"
      }
    },
    {
      "cell_type": "code",
      "source": [
        "ann.add(tf.keras.layers.Dense(units=5,activation='relu'))\n"
      ],
      "metadata": {
        "id": "mGkD--A1INNV"
      },
      "execution_count": null,
      "outputs": []
    },
    {
      "cell_type": "markdown",
      "source": [
        "Adding 2nd hidden layer"
      ],
      "metadata": {
        "id": "_b-KQZfGOi04"
      }
    },
    {
      "cell_type": "code",
      "source": [
        "ann.add(tf.keras.layers.Dense(units=5, activation='relu'))"
      ],
      "metadata": {
        "id": "OXwxn3_0OqPP"
      },
      "execution_count": null,
      "outputs": []
    },
    {
      "cell_type": "markdown",
      "source": [
        "Adding output layer"
      ],
      "metadata": {
        "id": "PuqayDH9PTPj"
      }
    },
    {
      "cell_type": "code",
      "source": [
        "ann.add(tf.keras.layers.Dense(units=1, activation='sigmoid'))"
      ],
      "metadata": {
        "id": "Uj8SIYX1PY-x"
      },
      "execution_count": null,
      "outputs": []
    },
    {
      "cell_type": "markdown",
      "source": [
        "#ANN Training"
      ],
      "metadata": {
        "id": "HxZbsOuHOafC"
      }
    },
    {
      "cell_type": "markdown",
      "source": [
        "ANN Compile"
      ],
      "metadata": {
        "id": "giFNRtznS8xp"
      }
    },
    {
      "cell_type": "code",
      "source": [
        "ann.compile(optimizer='adam', loss='binary_crossentropy', metrics=['accuracy'])"
      ],
      "metadata": {
        "id": "FN8EQ3HbOpZ2"
      },
      "execution_count": null,
      "outputs": []
    },
    {
      "cell_type": "code",
      "source": [],
      "metadata": {
        "id": "Pz0f5ZSPXX1I"
      },
      "execution_count": null,
      "outputs": []
    },
    {
      "cell_type": "code",
      "source": [],
      "metadata": {
        "id": "3bXcxeChWNS8"
      },
      "execution_count": null,
      "outputs": []
    },
    {
      "cell_type": "markdown",
      "source": [
        "Training of training dataset"
      ],
      "metadata": {
        "id": "UD60yn8HTANn"
      }
    },
    {
      "cell_type": "code",
      "source": [
        "ann.fit(x_train, y_train, batch_size=32, epochs=120)"
      ],
      "metadata": {
        "colab": {
          "base_uri": "https://localhost:8080/"
        },
        "id": "MwLhcvj5ThAh",
        "outputId": "2f0544f5-eda3-4668-9ad6-c8dafaa46de6"
      },
      "execution_count": null,
      "outputs": [
        {
          "output_type": "stream",
          "name": "stdout",
          "text": [
            "Epoch 1/120\n",
            "249/249 [==============================] - 2s 3ms/step - loss: 0.6054 - accuracy: 0.7000\n",
            "Epoch 2/120\n",
            "249/249 [==============================] - 1s 3ms/step - loss: 0.4838 - accuracy: 0.7976\n",
            "Epoch 3/120\n",
            "249/249 [==============================] - 1s 4ms/step - loss: 0.4590 - accuracy: 0.7976\n",
            "Epoch 4/120\n",
            "249/249 [==============================] - 1s 5ms/step - loss: 0.4459 - accuracy: 0.7978\n",
            "Epoch 5/120\n",
            "249/249 [==============================] - 1s 5ms/step - loss: 0.4376 - accuracy: 0.7986\n",
            "Epoch 6/120\n",
            "249/249 [==============================] - 1s 4ms/step - loss: 0.4322 - accuracy: 0.7998\n",
            "Epoch 7/120\n",
            "249/249 [==============================] - 1s 3ms/step - loss: 0.4265 - accuracy: 0.8023\n",
            "Epoch 8/120\n",
            "249/249 [==============================] - 1s 3ms/step - loss: 0.4204 - accuracy: 0.8058\n",
            "Epoch 9/120\n",
            "249/249 [==============================] - 1s 3ms/step - loss: 0.4130 - accuracy: 0.8093\n",
            "Epoch 10/120\n",
            "249/249 [==============================] - 1s 3ms/step - loss: 0.4059 - accuracy: 0.8130\n",
            "Epoch 11/120\n",
            "249/249 [==============================] - 1s 3ms/step - loss: 0.3984 - accuracy: 0.8156\n",
            "Epoch 12/120\n",
            "249/249 [==============================] - 1s 3ms/step - loss: 0.3928 - accuracy: 0.8180\n",
            "Epoch 13/120\n",
            "249/249 [==============================] - 1s 3ms/step - loss: 0.3884 - accuracy: 0.8185\n",
            "Epoch 14/120\n",
            "249/249 [==============================] - 1s 3ms/step - loss: 0.3850 - accuracy: 0.8198\n",
            "Epoch 15/120\n",
            "249/249 [==============================] - 1s 3ms/step - loss: 0.3822 - accuracy: 0.8357\n",
            "Epoch 16/120\n",
            "249/249 [==============================] - 1s 3ms/step - loss: 0.3800 - accuracy: 0.8348\n",
            "Epoch 17/120\n",
            "249/249 [==============================] - 1s 3ms/step - loss: 0.3782 - accuracy: 0.8387\n",
            "Epoch 18/120\n",
            "249/249 [==============================] - 1s 3ms/step - loss: 0.3767 - accuracy: 0.8393\n",
            "Epoch 19/120\n",
            "249/249 [==============================] - 1s 3ms/step - loss: 0.3755 - accuracy: 0.8401\n",
            "Epoch 20/120\n",
            "249/249 [==============================] - 1s 4ms/step - loss: 0.3745 - accuracy: 0.8401\n",
            "Epoch 21/120\n",
            "249/249 [==============================] - 1s 5ms/step - loss: 0.3734 - accuracy: 0.8384\n",
            "Epoch 22/120\n",
            "249/249 [==============================] - 1s 5ms/step - loss: 0.3725 - accuracy: 0.8391\n",
            "Epoch 23/120\n",
            "249/249 [==============================] - 1s 4ms/step - loss: 0.3720 - accuracy: 0.8384\n",
            "Epoch 24/120\n",
            "249/249 [==============================] - 1s 3ms/step - loss: 0.3714 - accuracy: 0.8398\n",
            "Epoch 25/120\n",
            "249/249 [==============================] - 1s 3ms/step - loss: 0.3710 - accuracy: 0.8389\n",
            "Epoch 26/120\n",
            "249/249 [==============================] - 1s 3ms/step - loss: 0.3705 - accuracy: 0.8388\n",
            "Epoch 27/120\n",
            "249/249 [==============================] - 1s 2ms/step - loss: 0.3700 - accuracy: 0.8387\n",
            "Epoch 28/120\n",
            "249/249 [==============================] - 1s 3ms/step - loss: 0.3697 - accuracy: 0.8402\n",
            "Epoch 29/120\n",
            "249/249 [==============================] - 1s 3ms/step - loss: 0.3692 - accuracy: 0.8411\n",
            "Epoch 30/120\n",
            "249/249 [==============================] - 1s 3ms/step - loss: 0.3686 - accuracy: 0.8413\n",
            "Epoch 31/120\n",
            "249/249 [==============================] - 1s 3ms/step - loss: 0.3681 - accuracy: 0.8426\n",
            "Epoch 32/120\n",
            "249/249 [==============================] - 1s 2ms/step - loss: 0.3682 - accuracy: 0.8415\n",
            "Epoch 33/120\n",
            "249/249 [==============================] - 1s 3ms/step - loss: 0.3681 - accuracy: 0.8440\n",
            "Epoch 34/120\n",
            "249/249 [==============================] - 1s 3ms/step - loss: 0.3668 - accuracy: 0.8442\n",
            "Epoch 35/120\n",
            "249/249 [==============================] - 1s 3ms/step - loss: 0.3676 - accuracy: 0.8437\n",
            "Epoch 36/120\n",
            "249/249 [==============================] - 1s 3ms/step - loss: 0.3670 - accuracy: 0.8440\n",
            "Epoch 37/120\n",
            "249/249 [==============================] - 1s 3ms/step - loss: 0.3665 - accuracy: 0.8450\n",
            "Epoch 38/120\n",
            "249/249 [==============================] - 1s 5ms/step - loss: 0.3665 - accuracy: 0.8462\n",
            "Epoch 39/120\n",
            "249/249 [==============================] - 1s 5ms/step - loss: 0.3665 - accuracy: 0.8452\n",
            "Epoch 40/120\n",
            "249/249 [==============================] - 1s 4ms/step - loss: 0.3661 - accuracy: 0.8462\n",
            "Epoch 41/120\n",
            "249/249 [==============================] - 1s 3ms/step - loss: 0.3658 - accuracy: 0.8454\n",
            "Epoch 42/120\n",
            "249/249 [==============================] - 1s 3ms/step - loss: 0.3656 - accuracy: 0.8452\n",
            "Epoch 43/120\n",
            "249/249 [==============================] - 1s 3ms/step - loss: 0.3657 - accuracy: 0.8459\n",
            "Epoch 44/120\n",
            "249/249 [==============================] - 1s 3ms/step - loss: 0.3654 - accuracy: 0.8452\n",
            "Epoch 45/120\n",
            "249/249 [==============================] - 1s 3ms/step - loss: 0.3653 - accuracy: 0.8452\n",
            "Epoch 46/120\n",
            "249/249 [==============================] - 1s 3ms/step - loss: 0.3653 - accuracy: 0.8457\n",
            "Epoch 47/120\n",
            "249/249 [==============================] - 1s 3ms/step - loss: 0.3651 - accuracy: 0.8454\n",
            "Epoch 48/120\n",
            "249/249 [==============================] - 1s 3ms/step - loss: 0.3646 - accuracy: 0.8460\n",
            "Epoch 49/120\n",
            "249/249 [==============================] - 1s 3ms/step - loss: 0.3649 - accuracy: 0.8465\n",
            "Epoch 50/120\n",
            "249/249 [==============================] - 1s 3ms/step - loss: 0.3647 - accuracy: 0.8462\n",
            "Epoch 51/120\n",
            "249/249 [==============================] - 1s 3ms/step - loss: 0.3647 - accuracy: 0.8451\n",
            "Epoch 52/120\n",
            "249/249 [==============================] - 1s 3ms/step - loss: 0.3647 - accuracy: 0.8461\n",
            "Epoch 53/120\n",
            "249/249 [==============================] - 1s 2ms/step - loss: 0.3642 - accuracy: 0.8457\n",
            "Epoch 54/120\n",
            "249/249 [==============================] - 1s 3ms/step - loss: 0.3641 - accuracy: 0.8465\n",
            "Epoch 55/120\n",
            "249/249 [==============================] - 1s 3ms/step - loss: 0.3643 - accuracy: 0.8460\n",
            "Epoch 56/120\n",
            "249/249 [==============================] - 1s 4ms/step - loss: 0.3642 - accuracy: 0.8461\n",
            "Epoch 57/120\n",
            "249/249 [==============================] - 1s 5ms/step - loss: 0.3642 - accuracy: 0.8465\n",
            "Epoch 58/120\n",
            "249/249 [==============================] - 1s 5ms/step - loss: 0.3640 - accuracy: 0.8471\n",
            "Epoch 59/120\n",
            "249/249 [==============================] - 1s 4ms/step - loss: 0.3636 - accuracy: 0.8466\n",
            "Epoch 60/120\n",
            "249/249 [==============================] - 1s 3ms/step - loss: 0.3639 - accuracy: 0.8452\n",
            "Epoch 61/120\n",
            "249/249 [==============================] - 1s 3ms/step - loss: 0.3639 - accuracy: 0.8452\n",
            "Epoch 62/120\n",
            "249/249 [==============================] - 1s 3ms/step - loss: 0.3636 - accuracy: 0.8457\n",
            "Epoch 63/120\n",
            "249/249 [==============================] - 1s 3ms/step - loss: 0.3635 - accuracy: 0.8454\n",
            "Epoch 64/120\n",
            "249/249 [==============================] - 1s 3ms/step - loss: 0.3635 - accuracy: 0.8452\n",
            "Epoch 65/120\n",
            "249/249 [==============================] - 1s 3ms/step - loss: 0.3636 - accuracy: 0.8467\n",
            "Epoch 66/120\n",
            "249/249 [==============================] - 1s 3ms/step - loss: 0.3632 - accuracy: 0.8456\n",
            "Epoch 67/120\n",
            "249/249 [==============================] - 1s 3ms/step - loss: 0.3633 - accuracy: 0.8457\n",
            "Epoch 68/120\n",
            "249/249 [==============================] - 1s 3ms/step - loss: 0.3630 - accuracy: 0.8470\n",
            "Epoch 69/120\n",
            "249/249 [==============================] - 1s 3ms/step - loss: 0.3631 - accuracy: 0.8479\n",
            "Epoch 70/120\n",
            "249/249 [==============================] - 1s 3ms/step - loss: 0.3632 - accuracy: 0.8452\n",
            "Epoch 71/120\n",
            "249/249 [==============================] - 1s 3ms/step - loss: 0.3630 - accuracy: 0.8454\n",
            "Epoch 72/120\n",
            "249/249 [==============================] - 1s 3ms/step - loss: 0.3630 - accuracy: 0.8465\n",
            "Epoch 73/120\n",
            "249/249 [==============================] - 1s 3ms/step - loss: 0.3628 - accuracy: 0.8479\n",
            "Epoch 74/120\n",
            "249/249 [==============================] - 1s 4ms/step - loss: 0.3631 - accuracy: 0.8459\n",
            "Epoch 75/120\n",
            "249/249 [==============================] - 1s 5ms/step - loss: 0.3627 - accuracy: 0.8464\n",
            "Epoch 76/120\n",
            "249/249 [==============================] - 1s 5ms/step - loss: 0.3626 - accuracy: 0.8469\n",
            "Epoch 77/120\n",
            "249/249 [==============================] - 1s 4ms/step - loss: 0.3626 - accuracy: 0.8470\n",
            "Epoch 78/120\n",
            "249/249 [==============================] - 1s 2ms/step - loss: 0.3624 - accuracy: 0.8467\n",
            "Epoch 79/120\n",
            "249/249 [==============================] - 1s 3ms/step - loss: 0.3622 - accuracy: 0.8481\n",
            "Epoch 80/120\n",
            "249/249 [==============================] - 1s 3ms/step - loss: 0.3622 - accuracy: 0.8467\n",
            "Epoch 81/120\n",
            "249/249 [==============================] - 1s 2ms/step - loss: 0.3620 - accuracy: 0.8466\n",
            "Epoch 82/120\n",
            "249/249 [==============================] - 1s 3ms/step - loss: 0.3618 - accuracy: 0.8479\n",
            "Epoch 83/120\n",
            "249/249 [==============================] - 1s 3ms/step - loss: 0.3618 - accuracy: 0.8476\n",
            "Epoch 84/120\n",
            "249/249 [==============================] - 1s 2ms/step - loss: 0.3620 - accuracy: 0.8495\n",
            "Epoch 85/120\n",
            "249/249 [==============================] - 1s 3ms/step - loss: 0.3617 - accuracy: 0.8484\n",
            "Epoch 86/120\n",
            "249/249 [==============================] - 1s 2ms/step - loss: 0.3619 - accuracy: 0.8465\n",
            "Epoch 87/120\n",
            "249/249 [==============================] - 1s 2ms/step - loss: 0.3618 - accuracy: 0.8489\n",
            "Epoch 88/120\n",
            "249/249 [==============================] - 1s 3ms/step - loss: 0.3618 - accuracy: 0.8462\n",
            "Epoch 89/120\n",
            "249/249 [==============================] - 1s 2ms/step - loss: 0.3617 - accuracy: 0.8480\n",
            "Epoch 90/120\n",
            "249/249 [==============================] - 1s 3ms/step - loss: 0.3617 - accuracy: 0.8471\n",
            "Epoch 91/120\n",
            "249/249 [==============================] - 1s 3ms/step - loss: 0.3613 - accuracy: 0.8471\n",
            "Epoch 92/120\n",
            "249/249 [==============================] - 1s 3ms/step - loss: 0.3616 - accuracy: 0.8474\n",
            "Epoch 93/120\n",
            "249/249 [==============================] - 1s 4ms/step - loss: 0.3615 - accuracy: 0.8472\n",
            "Epoch 94/120\n",
            "249/249 [==============================] - 1s 5ms/step - loss: 0.3613 - accuracy: 0.8467\n",
            "Epoch 95/120\n",
            "249/249 [==============================] - 1s 5ms/step - loss: 0.3613 - accuracy: 0.8486\n",
            "Epoch 96/120\n",
            "249/249 [==============================] - 1s 4ms/step - loss: 0.3611 - accuracy: 0.8488\n",
            "Epoch 97/120\n",
            "249/249 [==============================] - 1s 2ms/step - loss: 0.3612 - accuracy: 0.8467\n",
            "Epoch 98/120\n",
            "249/249 [==============================] - 1s 2ms/step - loss: 0.3615 - accuracy: 0.8475\n",
            "Epoch 99/120\n",
            "249/249 [==============================] - 1s 2ms/step - loss: 0.3613 - accuracy: 0.8467\n",
            "Epoch 100/120\n",
            "249/249 [==============================] - 1s 2ms/step - loss: 0.3610 - accuracy: 0.8474\n",
            "Epoch 101/120\n",
            "249/249 [==============================] - 1s 3ms/step - loss: 0.3610 - accuracy: 0.8461\n",
            "Epoch 102/120\n",
            "249/249 [==============================] - 1s 3ms/step - loss: 0.3613 - accuracy: 0.8465\n",
            "Epoch 103/120\n",
            "249/249 [==============================] - 1s 3ms/step - loss: 0.3609 - accuracy: 0.8466\n",
            "Epoch 104/120\n",
            "249/249 [==============================] - 1s 3ms/step - loss: 0.3609 - accuracy: 0.8479\n",
            "Epoch 105/120\n",
            "249/249 [==============================] - 1s 2ms/step - loss: 0.3610 - accuracy: 0.8455\n",
            "Epoch 106/120\n",
            "249/249 [==============================] - 1s 3ms/step - loss: 0.3611 - accuracy: 0.8481\n",
            "Epoch 107/120\n",
            "249/249 [==============================] - 1s 2ms/step - loss: 0.3610 - accuracy: 0.8469\n",
            "Epoch 108/120\n",
            "249/249 [==============================] - 1s 2ms/step - loss: 0.3611 - accuracy: 0.8471\n",
            "Epoch 109/120\n",
            "249/249 [==============================] - 1s 3ms/step - loss: 0.3613 - accuracy: 0.8465\n",
            "Epoch 110/120\n",
            "249/249 [==============================] - 1s 3ms/step - loss: 0.3608 - accuracy: 0.8472\n",
            "Epoch 111/120\n",
            "249/249 [==============================] - 1s 3ms/step - loss: 0.3608 - accuracy: 0.8470\n",
            "Epoch 112/120\n",
            "249/249 [==============================] - 1s 4ms/step - loss: 0.3610 - accuracy: 0.8465\n",
            "Epoch 113/120\n",
            "249/249 [==============================] - 1s 4ms/step - loss: 0.3607 - accuracy: 0.8470\n",
            "Epoch 114/120\n",
            "249/249 [==============================] - 1s 5ms/step - loss: 0.3610 - accuracy: 0.8474\n",
            "Epoch 115/120\n",
            "249/249 [==============================] - 1s 4ms/step - loss: 0.3610 - accuracy: 0.8469\n",
            "Epoch 116/120\n",
            "249/249 [==============================] - 1s 3ms/step - loss: 0.3607 - accuracy: 0.8461\n",
            "Epoch 117/120\n",
            "249/249 [==============================] - 1s 3ms/step - loss: 0.3608 - accuracy: 0.8461\n",
            "Epoch 118/120\n",
            "249/249 [==============================] - 1s 3ms/step - loss: 0.3606 - accuracy: 0.8467\n",
            "Epoch 119/120\n",
            "249/249 [==============================] - 1s 2ms/step - loss: 0.3606 - accuracy: 0.8483\n",
            "Epoch 120/120\n",
            "249/249 [==============================] - 1s 3ms/step - loss: 0.3608 - accuracy: 0.8467\n"
          ]
        },
        {
          "output_type": "execute_result",
          "data": {
            "text/plain": [
              "<keras.src.callbacks.History at 0x7b54b4609300>"
            ]
          },
          "metadata": {},
          "execution_count": 64
        }
      ]
    },
    {
      "cell_type": "markdown",
      "source": [
        "#Prediction"
      ],
      "metadata": {
        "id": "AlyNnRBPR7hV"
      }
    },
    {
      "cell_type": "code",
      "source": [
        "print(ann.predict(sc.transform([[0.0, 1.0, 0.0, 501, 0, 32, 2, 0.0, 4, 1, 545501]]))> 0.5)"
      ],
      "metadata": {
        "colab": {
          "base_uri": "https://localhost:8080/"
        },
        "id": "ZG49z6WSR-UM",
        "outputId": "7d5363a7-e186-4390-f3e0-1bcd1f86cb4a"
      },
      "execution_count": null,
      "outputs": [
        {
          "output_type": "stream",
          "name": "stdout",
          "text": [
            "1/1 [==============================] - 0s 193ms/step\n",
            "[[False]]\n"
          ]
        }
      ]
    },
    {
      "cell_type": "markdown",
      "source": [
        "Prediction on test set"
      ],
      "metadata": {
        "id": "MkC0Z943cy8y"
      }
    },
    {
      "cell_type": "code",
      "source": [
        "y_pred = ann.predict(x_test)\n",
        "y_pred = (y_pred > 0.5)\n",
        "print(np.concatenate((y_pred.reshape(len(y_pred),1), y_test.reshape(len(y_test),1)),1))\n"
      ],
      "metadata": {
        "colab": {
          "base_uri": "https://localhost:8080/"
        },
        "id": "E1vB5I2XczKu",
        "outputId": "c86a6e67-e392-47f5-cf18-87f5d434c2f2"
      },
      "execution_count": null,
      "outputs": [
        {
          "output_type": "stream",
          "name": "stdout",
          "text": [
            "63/63 [==============================] - 0s 4ms/step\n",
            "[[0 0]\n",
            " [0 0]\n",
            " [1 0]\n",
            " ...\n",
            " [0 0]\n",
            " [0 0]\n",
            " [0 1]]\n"
          ]
        }
      ]
    },
    {
      "cell_type": "code",
      "source": [
        "from sklearn.metrics import confusion_matrix, accuracy_score\n",
        "cm = confusion_matrix(y_test, y_pred)\n",
        "print(cm)\n",
        "accuracy_score(y_test, y_pred)\n"
      ],
      "metadata": {
        "id": "-YOUzl5kc9ZY",
        "outputId": "e6b96768-df49-4315-f033-af4409e3c5c6",
        "colab": {
          "base_uri": "https://localhost:8080/"
        }
      },
      "execution_count": null,
      "outputs": [
        {
          "output_type": "stream",
          "name": "stdout",
          "text": [
            "[[1495   70]\n",
            " [ 234  187]]\n"
          ]
        },
        {
          "output_type": "execute_result",
          "data": {
            "text/plain": [
              "0.8469284994964753"
            ]
          },
          "metadata": {},
          "execution_count": 67
        }
      ]
    }
  ]
}